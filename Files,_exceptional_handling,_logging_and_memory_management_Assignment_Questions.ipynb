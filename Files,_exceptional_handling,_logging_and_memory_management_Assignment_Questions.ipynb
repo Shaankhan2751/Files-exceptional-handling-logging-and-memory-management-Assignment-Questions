{
  "nbformat": 4,
  "nbformat_minor": 0,
  "metadata": {
    "colab": {
      "provenance": []
    },
    "kernelspec": {
      "name": "python3",
      "display_name": "Python 3"
    },
    "language_info": {
      "name": "python"
    }
  },
  "cells": [
    {
      "cell_type": "markdown",
      "source": [
        "#Files, exceptional handling, logging and memory management Questions\n",
        "\n",
        "1.  What is the difference between interpreted and compiled languages\n",
        "\n",
        "  - interpreted language are designed to run line by run ex: python with indentation.<br>\n",
        "  these are often slower compared to compiled language.<br> easier to debug and maintain.\n",
        "  - Compiled language such as c,c++ convert the code to binary form during the execution and then compile the code.\n",
        "<br> these are faster compared to interpreted language<br> hard or complex to debug since the error could only be detected during the compilation this results in comparatively high debug.\n",
        "\n",
        "2. What is exception handling in Python?\n",
        "\n",
        "  - exception handling in python allows us to handle expected codes in a composed even during the run time error and doesnt break down, exception blocks are constructed using try,except,else,finally keywords ensuring that the program remains smooth and stable during the execution.\n",
        "\n",
        "3. What is the purpose of the finally block in exception handling?\n",
        "\n",
        "  - finally block is the very last execution lines in the exception handling block which are executed regardless of the runtime failure or success it may also be called for closing an created or file in use or releasing that occupied memory.\n",
        "\n",
        "4. What is logging in Python?\n",
        "\n",
        "  - Logging is a python module that allows a user to track events or errors during a program execution. it helps in program debugging and monitoring previous versions or methods of the program.\n",
        "\n",
        "5. What is the significance of the del method in Python?\n",
        "\n",
        "  - del method in python is used __del__ is a special destructor method it is automatically called when an object is about to be closed or destroyed, it is used for cleanup operations like closing open files or garbage collection.<br> it allows the developer to mention customized cleanup logic which is not usually used due to its unpredictable nature.\n",
        "\n",
        "6. What is the difference between import and from...import in Python?\n",
        "\n",
        "  - the import statement in python is used to import or install a module which is not readily available in the python allowing the access to all its attributes, functions, and classes by prefixing them with the module name (e.g., `math.sqrt()`). This approach keeps the namespace clean and avoids naming conflicts but requires more verbose code. Conversely, the `from.import` statement directly imports certain attributes or functions into the present namespace (example: `from math import sqrt`), allowing for shorter, more convenient access without the module prefix. But this can contribute to namespace pollution if different modules use the same names, so `import` is a safer option for wider module usage.\n",
        "\n",
        "7. How can you handle multiple exceptions in Python?\n",
        "\n",
        "  -  Throwing multiple exceptions in Python is achieved by having more than one `except` statement after a single `try`, each intended to catch and handle a particular exception. This mechanism enables the program to handle different errors differently, like `ValueError` for incorrect inputs or `FileNotFoundError` for unavailable files. The exceptions can be listed in order, and the first corresponding `except` block will run. Moreover, a blanket `except` clause can trap any unhandled exceptions, although it should be used with care to prevent hiding unexpected errors. This flexibility improves error handling and makes the code more resilient.\n",
        "\n",
        "\n",
        "\n",
        "8. What is the purpose of the with statement when handling files in Python?\n",
        "\n",
        "  - The `with` statement in Python is intended to make exception handling and resource management easier, especially when dealing with files.   It guarantees that a file will be opened correctly and closed automatically after its related block of code has run, even when an exception is raised. This is done using the context manager protocol, which invokes the `__enter__` and `__exit__` methods. The `with` statement minimizes the likelihood of resource leaks (e.g., having a file open) and removes the need for direct `close()` calls, resulting in cleaner, safer, and less error-prone code.\n",
        "\n",
        "9. What is the difference between multithreading and multiprocessing?\n",
        "\n",
        "  -   Multithreading and multiprocessing are both methods for attaining concurrency in Python, but they are quite different.\n",
        "\n",
        "  Multithreading runs multiple threads within a single process, sharing a common memory space, which is perfect for I/O-bound operations such as file reading or network calls.\n",
        "  Due to the Global Interpreter Lock (GIL) in CPython, though, threads cannot leverage multiple CPU cores completely for CPU-bound operations.   Multiprocessing, however, spawns independent processes with their own memory spaces, avoiding the GIL and allowing real parallel execution on multiple cores and making it applicable for CPU-bound operations. It relies on the nature and performance requirements of the application.\n",
        "\n",
        "10. What are the advantages of using logging in a program?\n",
        "\n",
        "  - Having logging in an application has many benefits, first of which is the fact that it can present a detailed record of events and exceptions for the sake of debugging without disrupting the program flow.\n",
        "\n",
        "  It accommodates varying levels of severity (e.g., DEBUG, ERROR) to enable developers to filter relevant details and adapt verbosity according to the environment.\n",
        "  Logging also helps with monitoring and auditing by preserving a historical log of program activities, which is vital for solving issues in production.   Moreover, it can be directed to write to different destinations (e.g., files, consoles), increasing flexibility and allowing for long-term observation of application performance.\n",
        "\n",
        "11. What is memory management in Python?\n",
        "\n",
        "  -  Python memory management is the automatic mechanism by which the Python memory manager allocates and deallocates memory for objects when a program is running. It is based on a private heap controlled by the interpreter, with a garbage collector to recover memory from objects that are no longer referenced. Python employs reference counting as its main mechanism, incrementing a counter when an object is referenced and decrementing it when a reference is removed, releasing memory when the count is zero.\n",
        "\n",
        "  This scheme makes development easier by dealing with memory manually, though it can have trouble with circular references, which the cyclic garbage collector solves.\n",
        "\n",
        "\n",
        "12. What are the basic steps involved in exception handling in Python?\n",
        "\n",
        "  - The fundamental steps in exception handling in Python start with putting the code that could cause an exception inside a `try` block. Then one or more `except` statements are used to catch and handle specific or general exceptions, indicating what to do in the event of an error. An `else` block can be run optionally if no exception is raised, and a `finally` block can be used to run cleanup code regardless of success or failure. This disciplined approach sees errors handled in a systematic manner, avoiding crashes and enabling the program to recover or exit gracefully.\n",
        "\n",
        "\n",
        "13. Why is memory management important in Python?\n",
        "\n",
        "  - Memory management is significant in Python since it has a direct bearing on the efficiency, stability, and scalability of the application.\n",
        "  Correct memory management avoids memory leaks, where free memory is not relinquished, possibly depleting system resources over time. It guarantees maximum performance by reserving memory only when necessary and releasing it when objects are no longer referenced. In applications that are memory-intensive or run for extended periods, like web servers or data processing, good memory management prevents crashes and ensures responsiveness and hence is an intrinsic part of good software design.\n",
        "\n",
        "\n",
        "14. What is the role of try and except in exception handling?\n",
        "\n",
        "  - The `try` block within Python exception handling serves to encapsulate the code that could potentially throw an exception, e.g., file-access operations or user input.\n",
        "  The `except` block comes next, acting as the handler to catch and process any exceptions thrown within the `try` block so that the program can appropriately respond—e.g., by presenting an error message or logging the problem.    Together, they create a defensive mechanism that shields dangerous code, avoids sudden termination, and allows for tailored error recovery techniques, making the program more resilient.\n",
        "\n",
        "\n",
        "15. How does Python’s garbage collection system work?\n",
        "\n",
        "  - Python's garbage collection system operates by automatically freeing up memory held by objects that are no longer reachable or referenced within the program. It is essentially based on a reference-counting system, where every object keeps track of how many references point to it; when this number falls to zero, the memory is released immediately.\n",
        "\n",
        "  Moreover, a cyclic garbage collector treats circular references (such as two objects pointing to each other) by running occasionally a cycle-detection algorithm that determines and reclaims unreachable objects.\n",
        "  This two-pronged strategy provides effective memory management with little effort from developers.\n",
        "\n",
        "16. What is the purpose of the else block in exception handling?\n",
        "\n",
        "  - The `else` block in Python exception handling has the purpose of running code only if there is no exception being raised in the previous `try` block. This helps programmers distinguish the error-handling code from the normal execution path, thus keeping the code more organized and readable. For example, it can be employed to execute actions that must only take place when the `try` block is successful, like data processing after a successful file read.\n",
        "\n",
        "  This block adds flexibility to exception handling by creating a clear demarcation between success and failure scenarios.\n",
        "\n",
        "17. What are the common logging levels in Python?\n",
        "\n",
        "  - Standard logging levels in Python, as specified by the `logging` module, are DEBUG (for low-level diagnostic details), INFO (for common operational messages), WARNING (for upcoming problems that don't halt execution), ERROR (for errors that hinder certain operations), and CRITICAL (for error that potentially halts the program). These levels enable developers to classify and sieve log messages according to how serious they are, supporting customized monitoring and debugging strategies. The levels are hierarchical, with a higher level containing all lower levels, and may be set up to manage output verbosity\n",
        "\n",
        "18. How does os.fork() differ from multiprocessing in Python?\n",
        "\n",
        "  - The `os.fork()` function, on Unix-like systems, spawns a new process by copying the existing one, with shared memory at first but with independent execution permitted.    \n",
        "  It is a low-level, platform-specific call needing manual management. Conversely, the `multiprocessing` module allows a high-level, cross-platform interface for process spawning with separate memory space and supports features such as process pools and inter-process communication. Although `os.fork()` supports finer control, `multiprocessing` is easier to use and cross-platform and is thus the standard choice for parallel processing in Python.\n",
        "\n",
        "19. What is the significance of closing a file in Python?\n",
        "\n",
        "  - Closing a file in Python is crucial as it frees the system resources (e.g., file descriptors) used when the file was opened, thus avoiding resource exhaustion in long-running programs.\n",
        "It also guarantees that any buffered data is flushed and written to the file, to avoid data loss.\n",
        "Not closing a file can result in locked files or corrupted data, particularly in multi-user or multi-process environments. With the `with` statement, all this is handled for you, but manual closure using `close()` is just as important when `with` is not employed.\n",
        "\n",
        "20. How is open() different from file.read() and file.readline() in Python?\n",
        "\n",
        "  -  Python's `open()` function opens a file and returns a file object so that read or write operations may be performed on it subsequently with a mode specified like `'r'` or `'w'`.\n",
        "\n",
        "The `file.read()` function reads the entire file content into one string, which is appropriate for small files but can be memory-consuming in big files.\n",
        "Whereas `file.readline()` reads a line at a time, which is more memory-frugal in big files and perfect for processing line by line.\n",
        "These functions have different applications depending on the size of the file and processing requirement.\n",
        "\n",
        "21. For what is the Python logging module utilized?\n",
        "\n",
        "  - The Python `logging` module is for providing a flexible and configurable logging system that logs events, errors, and diagnostic messages while running a program.\n",
        "\n",
        "It is a standardized mechanism for sending messages to different destinations like the console, files, or network servers with varying severity levels (e.g., DEBUG, ERROR).\n",
        "Developers can personalize log formats, establish filters, and control log rotation, making it priceless for debugging, auditing, and monitoring applications.  This module is especially helpful in complicated systems where behavior over time must be tracked.\n",
        "\n",
        "22. What are the challenges associated with memory management in Python?\n",
        "\n",
        "  - Memory management in Python is also subject to a number of challenges, such as memory leaks due to lost references or circular references the garbage collector may fail to detect at first try. In bigger applications, waste of memory can cause performance loss, particularly with huge object creation and destruction.\n",
        "\n",
        "Processing memory-consuming operations, like working with large datasets, can make the system work harder, and the Global Interpreter Lock (GIL) hinders multi-threaded memory optimization.\n",
        "Developers also need to take into account third-party libraries that may not be compatible with Python's memory model, necessitating fine-grained design to avoid these problems.\n",
        "\n",
        "23. How do you raise an exception manually in Python?\n",
        "\n",
        "  - You raise an exception manually in Python using the `raise` keyword followed by an exception type and, if desired, a custom error message. For instance, `raise ValueError(\"Invalid input\")` raises a `ValueError` with an informative message. This method is handy for enforcing program semantics, checking inputs, or indicating custom exceptions to be handled by exception handlers.\n",
        "\n",
        "The exception raised can be caught in a `try` and `except` block somewhere else in the code, enabling controlled error handling and propagation.\n",
        "\n",
        "24. Why is it important to use multithreading in certain applications?\n",
        "\n",
        "  - Multithreading is significant in some applications because it allows tasks to be executed concurrently within a single process, enhancing responsiveness and efficiency for I/O-bound tasks such as network requests or file operations. It can overlap wait times (such as for user input or downloads of data), which can make user experience in GUI programs or servers better. While constrained by the GIL in CPython for CPU-intensive operations, multithreading is still useful for lightweight concurrency and thus a primary tool for optimizing certain workflows.\n",
        "\n",
        "25. How do you raise an exception manually in Python?\n",
        "\n",
        "  - To raise an exception manually in Python, you use the `raise` keyword to cause an exception at a particular point in the code.\n",
        "For example, `raise ValueError(\"Invalid input\")` raises a `ValueError` with a specific message, which can be used to signal invalid states or enforce constraints. This technique enables developers to specify their own error conditions beyond Python's intrinsic exceptions, and the exception raised can be caught and processed with a `try` and `except` statement. This feature is critical in building solid applications with customized error handling.\n",
        "\n",
        "# Practical Questions\n",
        "\n",
        "1. Open a file for writing and write a string to it"
      ],
      "metadata": {
        "id": "lfPhaHnEKVLp"
      }
    },
    {
      "cell_type": "code",
      "source": [
        "with open(\"sample.txt\", \"w\") as file:\n",
        "    file.write(\"Hello, Python!\")\n"
      ],
      "metadata": {
        "id": "22-KzSSfaffw"
      },
      "execution_count": 1,
      "outputs": []
    },
    {
      "cell_type": "markdown",
      "source": [
        "2. Read contents of a file and print each line"
      ],
      "metadata": {
        "id": "kiD23dd4aoXU"
      }
    },
    {
      "cell_type": "code",
      "source": [
        "with open(\"sample.txt\", \"r\") as file:\n",
        "    for line in file:\n",
        "        print(line)\n"
      ],
      "metadata": {
        "colab": {
          "base_uri": "https://localhost:8080/"
        },
        "id": "JV4Nv79Baoe1",
        "outputId": "93059138-dfac-4af8-c6f9-2c6c2c97bf1d"
      },
      "execution_count": 3,
      "outputs": [
        {
          "output_type": "stream",
          "name": "stdout",
          "text": [
            "Hello, Python!\n"
          ]
        }
      ]
    },
    {
      "cell_type": "markdown",
      "source": [
        "3. Handle error if file doesn’t exist while opening for reading"
      ],
      "metadata": {
        "id": "xEHyfhdNaops"
      }
    },
    {
      "cell_type": "code",
      "source": [
        "try:\n",
        "    with open(\"nofile.txt\", \"r\") as file:\n",
        "        content = file.read()\n",
        "except FileNotFoundError:\n",
        "    print(\"File does not exist.\")\n"
      ],
      "metadata": {
        "colab": {
          "base_uri": "https://localhost:8080/"
        },
        "id": "KT3gKpKZarXF",
        "outputId": "33c78b0b-5e7d-45d3-f0db-0865aa068c4c"
      },
      "execution_count": 4,
      "outputs": [
        {
          "output_type": "stream",
          "name": "stdout",
          "text": [
            "File does not exist.\n"
          ]
        }
      ]
    },
    {
      "cell_type": "markdown",
      "source": [
        "4. Copy content from one file to another"
      ],
      "metadata": {
        "id": "OO8Y1w5ZarpJ"
      }
    },
    {
      "cell_type": "code",
      "source": [
        "with open(\"sample.txt\", \"r\") as src, open(\"destination.txt\", \"w\") as dest:\n",
        "    dest.write(src.read())\n"
      ],
      "metadata": {
        "id": "Jb9vkTioaryt"
      },
      "execution_count": 6,
      "outputs": []
    },
    {
      "cell_type": "markdown",
      "source": [
        "5. Catch and handle division by zero\n",
        "python\n",
        "Copy\n",
        "Edit\n"
      ],
      "metadata": {
        "id": "gUXXBReMar7_"
      }
    },
    {
      "cell_type": "code",
      "source": [
        "try:\n",
        "    result = 10 / 0\n",
        "except ZeroDivisionError:\n",
        "    print(\"Cannot divide by zero.\")\n"
      ],
      "metadata": {
        "colab": {
          "base_uri": "https://localhost:8080/"
        },
        "id": "7inCs-hNasG2",
        "outputId": "721282f6-c121-4c49-8679-163bcf27ac48"
      },
      "execution_count": 7,
      "outputs": [
        {
          "output_type": "stream",
          "name": "stdout",
          "text": [
            "Cannot divide by zero.\n"
          ]
        }
      ]
    },
    {
      "cell_type": "markdown",
      "source": [
        "6. Log error on division by zero using logging module\n",
        "python\n",
        "Copy\n",
        "Edit\n"
      ],
      "metadata": {
        "id": "tUFaYGlnasQP"
      }
    },
    {
      "cell_type": "code",
      "source": [
        "import logging\n",
        "\n",
        "logging.basicConfig(filename=\"errors.log\", level=logging.ERROR)\n",
        "try:\n",
        "    result = 10 / 0\n",
        "except ZeroDivisionError as e:\n",
        "    logging.error(f\"Division by zero error: {e}\")\n"
      ],
      "metadata": {
        "colab": {
          "base_uri": "https://localhost:8080/"
        },
        "id": "SuD4x81masZB",
        "outputId": "427c1955-22e4-48a9-a11f-ff6cbb27295b"
      },
      "execution_count": 9,
      "outputs": [
        {
          "output_type": "stream",
          "name": "stderr",
          "text": [
            "ERROR:root:Division by zero error: division by zero\n"
          ]
        }
      ]
    },
    {
      "cell_type": "markdown",
      "source": [
        "7. Logging at INFO, ERROR, WARNING levels\n",
        "python\n",
        "Copy\n",
        "Edit\n"
      ],
      "metadata": {
        "id": "2k0oDBFaash-"
      }
    },
    {
      "cell_type": "code",
      "source": [
        "import logging\n",
        "\n",
        "logging.basicConfig(level=logging.DEBUG)\n",
        "logging.info(\"This is INFO\")\n",
        "logging.warning(\"This is WARNING\")\n",
        "logging.error(\"This is ERROR\")\n"
      ],
      "metadata": {
        "colab": {
          "base_uri": "https://localhost:8080/"
        },
        "id": "hLa9JJoGaso7",
        "outputId": "5e21a1c0-2a1d-4412-a8aa-7696ecc878a9"
      },
      "execution_count": 10,
      "outputs": [
        {
          "output_type": "stream",
          "name": "stderr",
          "text": [
            "WARNING:root:This is WARNING\n",
            "ERROR:root:This is ERROR\n"
          ]
        }
      ]
    },
    {
      "cell_type": "markdown",
      "source": [
        "8. File opening using exception handling\n",
        "python\n",
        "Copy\n",
        "Edit\n"
      ],
      "metadata": {
        "id": "9dN76zyuas_b"
      }
    },
    {
      "cell_type": "code",
      "source": [
        "try:\n",
        "    with open(\"file.txt\", \"r\") as f:\n",
        "        print(f.read())\n",
        "except IOError:\n",
        "    print(\"Error opening the file.\")\n",
        "try:\n",
        "    with open(\"file.txt\", \"r\") as f:\n",
        "        print(f.read())\n",
        "except IOError:\n",
        "    print(\"Error opening the file.\")\n"
      ],
      "metadata": {
        "colab": {
          "base_uri": "https://localhost:8080/"
        },
        "id": "D1IUdZ4gatHJ",
        "outputId": "140b63db-06fc-46c7-8ba4-e548523335db"
      },
      "execution_count": 16,
      "outputs": [
        {
          "output_type": "stream",
          "name": "stdout",
          "text": [
            "\n",
            "New data added.\n",
            "\n",
            "New data added.\n"
          ]
        }
      ]
    },
    {
      "cell_type": "markdown",
      "source": [
        "9. Read file line by line into a list\n",
        "python\n",
        "Copy\n",
        "Edit\n"
      ],
      "metadata": {
        "id": "3aoeRTCibYhd"
      }
    },
    {
      "cell_type": "code",
      "source": [
        "with open(\"sample.txt\", \"r\") as file:\n",
        "    lines = file.readlines()\n",
        "    print(lines)\n"
      ],
      "metadata": {
        "colab": {
          "base_uri": "https://localhost:8080/"
        },
        "id": "KqRt-tPubYud",
        "outputId": "f0e59452-cf05-4236-e6f5-5a3a886c0473"
      },
      "execution_count": 13,
      "outputs": [
        {
          "output_type": "stream",
          "name": "stdout",
          "text": [
            "['Hello, Python!']\n"
          ]
        }
      ]
    },
    {
      "cell_type": "markdown",
      "source": [
        "10. Append data to an existing file\n",
        "python\n",
        "Copy\n",
        "Edit\n"
      ],
      "metadata": {
        "id": "Os0AOI6obY7I"
      }
    },
    {
      "cell_type": "code",
      "source": [
        "open(\"file.txt\",\"w\")\n",
        "with open(\"file.txt\", \"a\") as file:\n",
        "    file.write(\"\\nNew data added.\")\n"
      ],
      "metadata": {
        "id": "Q39Rv9O0bZHA"
      },
      "execution_count": 15,
      "outputs": []
    },
    {
      "cell_type": "markdown",
      "source": [
        "11. Try-except for dictionary key access\n",
        "python\n",
        "Copy\n",
        "Edit\n"
      ],
      "metadata": {
        "id": "cKa2U-ZabZQx"
      }
    },
    {
      "cell_type": "code",
      "source": [
        "d = {\"name\": \"Kamran\"}\n",
        "try:\n",
        "    print(d[\"age\"])\n",
        "except KeyError:\n",
        "    print(\"Key not found.\")\n"
      ],
      "metadata": {
        "colab": {
          "base_uri": "https://localhost:8080/"
        },
        "id": "a65kdu9ybZbg",
        "outputId": "a7175783-7fb8-4c52-fc9c-0150c3ec5c71"
      },
      "execution_count": 17,
      "outputs": [
        {
          "output_type": "stream",
          "name": "stdout",
          "text": [
            "Key not found.\n"
          ]
        }
      ]
    },
    {
      "cell_type": "markdown",
      "source": [
        "12. Multiple except blocks\n",
        "python\n",
        "Copy\n",
        "Edit\n"
      ],
      "metadata": {
        "id": "VJRgVtf0bitx"
      }
    },
    {
      "cell_type": "code",
      "source": [
        "try:\n",
        "    x = int(\"abc\")\n",
        "    result = 10 / x\n",
        "except ValueError:\n",
        "    print(\"Invalid integer.\")\n",
        "except ZeroDivisionError:\n",
        "    print(\"Cannot divide by zero.\")\n"
      ],
      "metadata": {
        "colab": {
          "base_uri": "https://localhost:8080/"
        },
        "id": "E_Vthsxsbi47",
        "outputId": "b9443e3d-6f37-4bd1-d6ce-1ac21703d255"
      },
      "execution_count": 18,
      "outputs": [
        {
          "output_type": "stream",
          "name": "stdout",
          "text": [
            "Invalid integer.\n"
          ]
        }
      ]
    },
    {
      "cell_type": "markdown",
      "source": [
        "13. Check if file exists\n",
        "python\n",
        "Copy\n",
        "Edit\n"
      ],
      "metadata": {
        "id": "uy0o6hQgbjPy"
      }
    },
    {
      "cell_type": "code",
      "source": [
        "import os\n",
        "\n",
        "if os.path.exists(\"file.txt\"):\n",
        "    print(\"File exists.\")\n",
        "else:\n",
        "    print(\"File not found.\")\n"
      ],
      "metadata": {
        "colab": {
          "base_uri": "https://localhost:8080/"
        },
        "id": "cwKhVQ8rbjZ8",
        "outputId": "0037ecf9-bd74-4ce3-e52b-49813d0972f0"
      },
      "execution_count": 20,
      "outputs": [
        {
          "output_type": "stream",
          "name": "stdout",
          "text": [
            "File exists.\n"
          ]
        }
      ]
    },
    {
      "cell_type": "markdown",
      "source": [
        "14. Log both info and error\n",
        "python\n",
        "Copy\n",
        "Edit\n"
      ],
      "metadata": {
        "id": "EbL_u2_sbjlX"
      }
    },
    {
      "cell_type": "code",
      "source": [
        "import logging\n",
        "\n",
        "logging.basicConfig(filename=\"log.txt\", level=logging.INFO)\n",
        "logging.info(\"Info message\")\n",
        "logging.error(\"Error message\")\n"
      ],
      "metadata": {
        "colab": {
          "base_uri": "https://localhost:8080/"
        },
        "id": "JwKCGznVbjw7",
        "outputId": "ee4eaf27-e0b3-4805-b820-b04186fe9b7c"
      },
      "execution_count": 21,
      "outputs": [
        {
          "output_type": "stream",
          "name": "stderr",
          "text": [
            "ERROR:root:Error message\n"
          ]
        }
      ]
    },
    {
      "cell_type": "markdown",
      "source": [
        "15. Print content of file and handle empty file\n",
        "python\n",
        "Copy\n",
        "Edit\n"
      ],
      "metadata": {
        "id": "yWPkKZD_bj55"
      }
    },
    {
      "cell_type": "code",
      "source": [
        "with open(\"file.txt\", \"r\") as f:\n",
        "    content = f.read()\n",
        "    if not content:\n",
        "        print(\"File is empty.\")\n",
        "    else:\n",
        "        print(content)\n"
      ],
      "metadata": {
        "colab": {
          "base_uri": "https://localhost:8080/"
        },
        "id": "w3rwb4tCbkCl",
        "outputId": "6eab9ca0-1ceb-4aea-e288-18e014f1033c"
      },
      "execution_count": 22,
      "outputs": [
        {
          "output_type": "stream",
          "name": "stdout",
          "text": [
            "\n",
            "New data added.\n"
          ]
        }
      ]
    },
    {
      "cell_type": "markdown",
      "source": [
        "16. Memory profiling with memory_profiler\n"
      ],
      "metadata": {
        "id": "7bPuGLGcbyWQ"
      }
    },
    {
      "cell_type": "code",
      "source": [
        "!pip install -q memory-profiler\n",
        "\n",
        "from memory_profiler import profile\n",
        "\n",
        "@profile\n",
        "def test():\n",
        "    a = [i for i in range(100000)]\n",
        "    return a\n",
        "\n",
        "test()\n"
      ],
      "metadata": {
        "colab": {
          "base_uri": "https://localhost:8080/"
        },
        "id": "SKua9fEWbyeG",
        "outputId": "8a381741-3208-4b67-a939-9e3e71172b3b"
      },
      "execution_count": 26,
      "outputs": [
        {
          "output_type": "stream",
          "name": "stderr",
          "text": [
            "\n",
            "PYDEV DEBUGGER WARNING:\n",
            "sys.settrace() should not be used when the debugger is being used.\n",
            "This may cause the debugger to stop working correctly.\n",
            "If this is needed, please check: \n",
            "http://pydev.blogspot.com/2007/06/why-cant-pydev-debugger-work-with.html\n",
            "to see how to restore the debug tracing back correctly.\n",
            "Call Location:\n",
            "  File \"/usr/local/lib/python3.11/dist-packages/memory_profiler.py\", line 847, in enable\n",
            "    sys.settrace(self.trace_memory_usage)\n",
            "\n",
            "\n",
            "PYDEV DEBUGGER WARNING:\n",
            "sys.settrace() should not be used when the debugger is being used.\n",
            "This may cause the debugger to stop working correctly.\n",
            "If this is needed, please check: \n",
            "http://pydev.blogspot.com/2007/06/why-cant-pydev-debugger-work-with.html\n",
            "to see how to restore the debug tracing back correctly.\n",
            "Call Location:\n",
            "  File \"/usr/local/lib/python3.11/dist-packages/memory_profiler.py\", line 850, in disable\n",
            "    sys.settrace(self._original_trace_function)\n",
            "\n"
          ]
        },
        {
          "output_type": "stream",
          "name": "stdout",
          "text": [
            "ERROR: Could not find file <ipython-input-26-e9f0e17f8b3c>\n",
            "NOTE: %mprun can only be used on functions defined in physical files, and not in the IPython environment.\n"
          ]
        },
        {
          "output_type": "execute_result",
          "data": {
            "text/plain": [
              "[0,\n",
              " 1,\n",
              " 2,\n",
              " 3,\n",
              " 4,\n",
              " 5,\n",
              " 6,\n",
              " 7,\n",
              " 8,\n",
              " 9,\n",
              " 10,\n",
              " 11,\n",
              " 12,\n",
              " 13,\n",
              " 14,\n",
              " 15,\n",
              " 16,\n",
              " 17,\n",
              " 18,\n",
              " 19,\n",
              " 20,\n",
              " 21,\n",
              " 22,\n",
              " 23,\n",
              " 24,\n",
              " 25,\n",
              " 26,\n",
              " 27,\n",
              " 28,\n",
              " 29,\n",
              " 30,\n",
              " 31,\n",
              " 32,\n",
              " 33,\n",
              " 34,\n",
              " 35,\n",
              " 36,\n",
              " 37,\n",
              " 38,\n",
              " 39,\n",
              " 40,\n",
              " 41,\n",
              " 42,\n",
              " 43,\n",
              " 44,\n",
              " 45,\n",
              " 46,\n",
              " 47,\n",
              " 48,\n",
              " 49,\n",
              " 50,\n",
              " 51,\n",
              " 52,\n",
              " 53,\n",
              " 54,\n",
              " 55,\n",
              " 56,\n",
              " 57,\n",
              " 58,\n",
              " 59,\n",
              " 60,\n",
              " 61,\n",
              " 62,\n",
              " 63,\n",
              " 64,\n",
              " 65,\n",
              " 66,\n",
              " 67,\n",
              " 68,\n",
              " 69,\n",
              " 70,\n",
              " 71,\n",
              " 72,\n",
              " 73,\n",
              " 74,\n",
              " 75,\n",
              " 76,\n",
              " 77,\n",
              " 78,\n",
              " 79,\n",
              " 80,\n",
              " 81,\n",
              " 82,\n",
              " 83,\n",
              " 84,\n",
              " 85,\n",
              " 86,\n",
              " 87,\n",
              " 88,\n",
              " 89,\n",
              " 90,\n",
              " 91,\n",
              " 92,\n",
              " 93,\n",
              " 94,\n",
              " 95,\n",
              " 96,\n",
              " 97,\n",
              " 98,\n",
              " 99,\n",
              " 100,\n",
              " 101,\n",
              " 102,\n",
              " 103,\n",
              " 104,\n",
              " 105,\n",
              " 106,\n",
              " 107,\n",
              " 108,\n",
              " 109,\n",
              " 110,\n",
              " 111,\n",
              " 112,\n",
              " 113,\n",
              " 114,\n",
              " 115,\n",
              " 116,\n",
              " 117,\n",
              " 118,\n",
              " 119,\n",
              " 120,\n",
              " 121,\n",
              " 122,\n",
              " 123,\n",
              " 124,\n",
              " 125,\n",
              " 126,\n",
              " 127,\n",
              " 128,\n",
              " 129,\n",
              " 130,\n",
              " 131,\n",
              " 132,\n",
              " 133,\n",
              " 134,\n",
              " 135,\n",
              " 136,\n",
              " 137,\n",
              " 138,\n",
              " 139,\n",
              " 140,\n",
              " 141,\n",
              " 142,\n",
              " 143,\n",
              " 144,\n",
              " 145,\n",
              " 146,\n",
              " 147,\n",
              " 148,\n",
              " 149,\n",
              " 150,\n",
              " 151,\n",
              " 152,\n",
              " 153,\n",
              " 154,\n",
              " 155,\n",
              " 156,\n",
              " 157,\n",
              " 158,\n",
              " 159,\n",
              " 160,\n",
              " 161,\n",
              " 162,\n",
              " 163,\n",
              " 164,\n",
              " 165,\n",
              " 166,\n",
              " 167,\n",
              " 168,\n",
              " 169,\n",
              " 170,\n",
              " 171,\n",
              " 172,\n",
              " 173,\n",
              " 174,\n",
              " 175,\n",
              " 176,\n",
              " 177,\n",
              " 178,\n",
              " 179,\n",
              " 180,\n",
              " 181,\n",
              " 182,\n",
              " 183,\n",
              " 184,\n",
              " 185,\n",
              " 186,\n",
              " 187,\n",
              " 188,\n",
              " 189,\n",
              " 190,\n",
              " 191,\n",
              " 192,\n",
              " 193,\n",
              " 194,\n",
              " 195,\n",
              " 196,\n",
              " 197,\n",
              " 198,\n",
              " 199,\n",
              " 200,\n",
              " 201,\n",
              " 202,\n",
              " 203,\n",
              " 204,\n",
              " 205,\n",
              " 206,\n",
              " 207,\n",
              " 208,\n",
              " 209,\n",
              " 210,\n",
              " 211,\n",
              " 212,\n",
              " 213,\n",
              " 214,\n",
              " 215,\n",
              " 216,\n",
              " 217,\n",
              " 218,\n",
              " 219,\n",
              " 220,\n",
              " 221,\n",
              " 222,\n",
              " 223,\n",
              " 224,\n",
              " 225,\n",
              " 226,\n",
              " 227,\n",
              " 228,\n",
              " 229,\n",
              " 230,\n",
              " 231,\n",
              " 232,\n",
              " 233,\n",
              " 234,\n",
              " 235,\n",
              " 236,\n",
              " 237,\n",
              " 238,\n",
              " 239,\n",
              " 240,\n",
              " 241,\n",
              " 242,\n",
              " 243,\n",
              " 244,\n",
              " 245,\n",
              " 246,\n",
              " 247,\n",
              " 248,\n",
              " 249,\n",
              " 250,\n",
              " 251,\n",
              " 252,\n",
              " 253,\n",
              " 254,\n",
              " 255,\n",
              " 256,\n",
              " 257,\n",
              " 258,\n",
              " 259,\n",
              " 260,\n",
              " 261,\n",
              " 262,\n",
              " 263,\n",
              " 264,\n",
              " 265,\n",
              " 266,\n",
              " 267,\n",
              " 268,\n",
              " 269,\n",
              " 270,\n",
              " 271,\n",
              " 272,\n",
              " 273,\n",
              " 274,\n",
              " 275,\n",
              " 276,\n",
              " 277,\n",
              " 278,\n",
              " 279,\n",
              " 280,\n",
              " 281,\n",
              " 282,\n",
              " 283,\n",
              " 284,\n",
              " 285,\n",
              " 286,\n",
              " 287,\n",
              " 288,\n",
              " 289,\n",
              " 290,\n",
              " 291,\n",
              " 292,\n",
              " 293,\n",
              " 294,\n",
              " 295,\n",
              " 296,\n",
              " 297,\n",
              " 298,\n",
              " 299,\n",
              " 300,\n",
              " 301,\n",
              " 302,\n",
              " 303,\n",
              " 304,\n",
              " 305,\n",
              " 306,\n",
              " 307,\n",
              " 308,\n",
              " 309,\n",
              " 310,\n",
              " 311,\n",
              " 312,\n",
              " 313,\n",
              " 314,\n",
              " 315,\n",
              " 316,\n",
              " 317,\n",
              " 318,\n",
              " 319,\n",
              " 320,\n",
              " 321,\n",
              " 322,\n",
              " 323,\n",
              " 324,\n",
              " 325,\n",
              " 326,\n",
              " 327,\n",
              " 328,\n",
              " 329,\n",
              " 330,\n",
              " 331,\n",
              " 332,\n",
              " 333,\n",
              " 334,\n",
              " 335,\n",
              " 336,\n",
              " 337,\n",
              " 338,\n",
              " 339,\n",
              " 340,\n",
              " 341,\n",
              " 342,\n",
              " 343,\n",
              " 344,\n",
              " 345,\n",
              " 346,\n",
              " 347,\n",
              " 348,\n",
              " 349,\n",
              " 350,\n",
              " 351,\n",
              " 352,\n",
              " 353,\n",
              " 354,\n",
              " 355,\n",
              " 356,\n",
              " 357,\n",
              " 358,\n",
              " 359,\n",
              " 360,\n",
              " 361,\n",
              " 362,\n",
              " 363,\n",
              " 364,\n",
              " 365,\n",
              " 366,\n",
              " 367,\n",
              " 368,\n",
              " 369,\n",
              " 370,\n",
              " 371,\n",
              " 372,\n",
              " 373,\n",
              " 374,\n",
              " 375,\n",
              " 376,\n",
              " 377,\n",
              " 378,\n",
              " 379,\n",
              " 380,\n",
              " 381,\n",
              " 382,\n",
              " 383,\n",
              " 384,\n",
              " 385,\n",
              " 386,\n",
              " 387,\n",
              " 388,\n",
              " 389,\n",
              " 390,\n",
              " 391,\n",
              " 392,\n",
              " 393,\n",
              " 394,\n",
              " 395,\n",
              " 396,\n",
              " 397,\n",
              " 398,\n",
              " 399,\n",
              " 400,\n",
              " 401,\n",
              " 402,\n",
              " 403,\n",
              " 404,\n",
              " 405,\n",
              " 406,\n",
              " 407,\n",
              " 408,\n",
              " 409,\n",
              " 410,\n",
              " 411,\n",
              " 412,\n",
              " 413,\n",
              " 414,\n",
              " 415,\n",
              " 416,\n",
              " 417,\n",
              " 418,\n",
              " 419,\n",
              " 420,\n",
              " 421,\n",
              " 422,\n",
              " 423,\n",
              " 424,\n",
              " 425,\n",
              " 426,\n",
              " 427,\n",
              " 428,\n",
              " 429,\n",
              " 430,\n",
              " 431,\n",
              " 432,\n",
              " 433,\n",
              " 434,\n",
              " 435,\n",
              " 436,\n",
              " 437,\n",
              " 438,\n",
              " 439,\n",
              " 440,\n",
              " 441,\n",
              " 442,\n",
              " 443,\n",
              " 444,\n",
              " 445,\n",
              " 446,\n",
              " 447,\n",
              " 448,\n",
              " 449,\n",
              " 450,\n",
              " 451,\n",
              " 452,\n",
              " 453,\n",
              " 454,\n",
              " 455,\n",
              " 456,\n",
              " 457,\n",
              " 458,\n",
              " 459,\n",
              " 460,\n",
              " 461,\n",
              " 462,\n",
              " 463,\n",
              " 464,\n",
              " 465,\n",
              " 466,\n",
              " 467,\n",
              " 468,\n",
              " 469,\n",
              " 470,\n",
              " 471,\n",
              " 472,\n",
              " 473,\n",
              " 474,\n",
              " 475,\n",
              " 476,\n",
              " 477,\n",
              " 478,\n",
              " 479,\n",
              " 480,\n",
              " 481,\n",
              " 482,\n",
              " 483,\n",
              " 484,\n",
              " 485,\n",
              " 486,\n",
              " 487,\n",
              " 488,\n",
              " 489,\n",
              " 490,\n",
              " 491,\n",
              " 492,\n",
              " 493,\n",
              " 494,\n",
              " 495,\n",
              " 496,\n",
              " 497,\n",
              " 498,\n",
              " 499,\n",
              " 500,\n",
              " 501,\n",
              " 502,\n",
              " 503,\n",
              " 504,\n",
              " 505,\n",
              " 506,\n",
              " 507,\n",
              " 508,\n",
              " 509,\n",
              " 510,\n",
              " 511,\n",
              " 512,\n",
              " 513,\n",
              " 514,\n",
              " 515,\n",
              " 516,\n",
              " 517,\n",
              " 518,\n",
              " 519,\n",
              " 520,\n",
              " 521,\n",
              " 522,\n",
              " 523,\n",
              " 524,\n",
              " 525,\n",
              " 526,\n",
              " 527,\n",
              " 528,\n",
              " 529,\n",
              " 530,\n",
              " 531,\n",
              " 532,\n",
              " 533,\n",
              " 534,\n",
              " 535,\n",
              " 536,\n",
              " 537,\n",
              " 538,\n",
              " 539,\n",
              " 540,\n",
              " 541,\n",
              " 542,\n",
              " 543,\n",
              " 544,\n",
              " 545,\n",
              " 546,\n",
              " 547,\n",
              " 548,\n",
              " 549,\n",
              " 550,\n",
              " 551,\n",
              " 552,\n",
              " 553,\n",
              " 554,\n",
              " 555,\n",
              " 556,\n",
              " 557,\n",
              " 558,\n",
              " 559,\n",
              " 560,\n",
              " 561,\n",
              " 562,\n",
              " 563,\n",
              " 564,\n",
              " 565,\n",
              " 566,\n",
              " 567,\n",
              " 568,\n",
              " 569,\n",
              " 570,\n",
              " 571,\n",
              " 572,\n",
              " 573,\n",
              " 574,\n",
              " 575,\n",
              " 576,\n",
              " 577,\n",
              " 578,\n",
              " 579,\n",
              " 580,\n",
              " 581,\n",
              " 582,\n",
              " 583,\n",
              " 584,\n",
              " 585,\n",
              " 586,\n",
              " 587,\n",
              " 588,\n",
              " 589,\n",
              " 590,\n",
              " 591,\n",
              " 592,\n",
              " 593,\n",
              " 594,\n",
              " 595,\n",
              " 596,\n",
              " 597,\n",
              " 598,\n",
              " 599,\n",
              " 600,\n",
              " 601,\n",
              " 602,\n",
              " 603,\n",
              " 604,\n",
              " 605,\n",
              " 606,\n",
              " 607,\n",
              " 608,\n",
              " 609,\n",
              " 610,\n",
              " 611,\n",
              " 612,\n",
              " 613,\n",
              " 614,\n",
              " 615,\n",
              " 616,\n",
              " 617,\n",
              " 618,\n",
              " 619,\n",
              " 620,\n",
              " 621,\n",
              " 622,\n",
              " 623,\n",
              " 624,\n",
              " 625,\n",
              " 626,\n",
              " 627,\n",
              " 628,\n",
              " 629,\n",
              " 630,\n",
              " 631,\n",
              " 632,\n",
              " 633,\n",
              " 634,\n",
              " 635,\n",
              " 636,\n",
              " 637,\n",
              " 638,\n",
              " 639,\n",
              " 640,\n",
              " 641,\n",
              " 642,\n",
              " 643,\n",
              " 644,\n",
              " 645,\n",
              " 646,\n",
              " 647,\n",
              " 648,\n",
              " 649,\n",
              " 650,\n",
              " 651,\n",
              " 652,\n",
              " 653,\n",
              " 654,\n",
              " 655,\n",
              " 656,\n",
              " 657,\n",
              " 658,\n",
              " 659,\n",
              " 660,\n",
              " 661,\n",
              " 662,\n",
              " 663,\n",
              " 664,\n",
              " 665,\n",
              " 666,\n",
              " 667,\n",
              " 668,\n",
              " 669,\n",
              " 670,\n",
              " 671,\n",
              " 672,\n",
              " 673,\n",
              " 674,\n",
              " 675,\n",
              " 676,\n",
              " 677,\n",
              " 678,\n",
              " 679,\n",
              " 680,\n",
              " 681,\n",
              " 682,\n",
              " 683,\n",
              " 684,\n",
              " 685,\n",
              " 686,\n",
              " 687,\n",
              " 688,\n",
              " 689,\n",
              " 690,\n",
              " 691,\n",
              " 692,\n",
              " 693,\n",
              " 694,\n",
              " 695,\n",
              " 696,\n",
              " 697,\n",
              " 698,\n",
              " 699,\n",
              " 700,\n",
              " 701,\n",
              " 702,\n",
              " 703,\n",
              " 704,\n",
              " 705,\n",
              " 706,\n",
              " 707,\n",
              " 708,\n",
              " 709,\n",
              " 710,\n",
              " 711,\n",
              " 712,\n",
              " 713,\n",
              " 714,\n",
              " 715,\n",
              " 716,\n",
              " 717,\n",
              " 718,\n",
              " 719,\n",
              " 720,\n",
              " 721,\n",
              " 722,\n",
              " 723,\n",
              " 724,\n",
              " 725,\n",
              " 726,\n",
              " 727,\n",
              " 728,\n",
              " 729,\n",
              " 730,\n",
              " 731,\n",
              " 732,\n",
              " 733,\n",
              " 734,\n",
              " 735,\n",
              " 736,\n",
              " 737,\n",
              " 738,\n",
              " 739,\n",
              " 740,\n",
              " 741,\n",
              " 742,\n",
              " 743,\n",
              " 744,\n",
              " 745,\n",
              " 746,\n",
              " 747,\n",
              " 748,\n",
              " 749,\n",
              " 750,\n",
              " 751,\n",
              " 752,\n",
              " 753,\n",
              " 754,\n",
              " 755,\n",
              " 756,\n",
              " 757,\n",
              " 758,\n",
              " 759,\n",
              " 760,\n",
              " 761,\n",
              " 762,\n",
              " 763,\n",
              " 764,\n",
              " 765,\n",
              " 766,\n",
              " 767,\n",
              " 768,\n",
              " 769,\n",
              " 770,\n",
              " 771,\n",
              " 772,\n",
              " 773,\n",
              " 774,\n",
              " 775,\n",
              " 776,\n",
              " 777,\n",
              " 778,\n",
              " 779,\n",
              " 780,\n",
              " 781,\n",
              " 782,\n",
              " 783,\n",
              " 784,\n",
              " 785,\n",
              " 786,\n",
              " 787,\n",
              " 788,\n",
              " 789,\n",
              " 790,\n",
              " 791,\n",
              " 792,\n",
              " 793,\n",
              " 794,\n",
              " 795,\n",
              " 796,\n",
              " 797,\n",
              " 798,\n",
              " 799,\n",
              " 800,\n",
              " 801,\n",
              " 802,\n",
              " 803,\n",
              " 804,\n",
              " 805,\n",
              " 806,\n",
              " 807,\n",
              " 808,\n",
              " 809,\n",
              " 810,\n",
              " 811,\n",
              " 812,\n",
              " 813,\n",
              " 814,\n",
              " 815,\n",
              " 816,\n",
              " 817,\n",
              " 818,\n",
              " 819,\n",
              " 820,\n",
              " 821,\n",
              " 822,\n",
              " 823,\n",
              " 824,\n",
              " 825,\n",
              " 826,\n",
              " 827,\n",
              " 828,\n",
              " 829,\n",
              " 830,\n",
              " 831,\n",
              " 832,\n",
              " 833,\n",
              " 834,\n",
              " 835,\n",
              " 836,\n",
              " 837,\n",
              " 838,\n",
              " 839,\n",
              " 840,\n",
              " 841,\n",
              " 842,\n",
              " 843,\n",
              " 844,\n",
              " 845,\n",
              " 846,\n",
              " 847,\n",
              " 848,\n",
              " 849,\n",
              " 850,\n",
              " 851,\n",
              " 852,\n",
              " 853,\n",
              " 854,\n",
              " 855,\n",
              " 856,\n",
              " 857,\n",
              " 858,\n",
              " 859,\n",
              " 860,\n",
              " 861,\n",
              " 862,\n",
              " 863,\n",
              " 864,\n",
              " 865,\n",
              " 866,\n",
              " 867,\n",
              " 868,\n",
              " 869,\n",
              " 870,\n",
              " 871,\n",
              " 872,\n",
              " 873,\n",
              " 874,\n",
              " 875,\n",
              " 876,\n",
              " 877,\n",
              " 878,\n",
              " 879,\n",
              " 880,\n",
              " 881,\n",
              " 882,\n",
              " 883,\n",
              " 884,\n",
              " 885,\n",
              " 886,\n",
              " 887,\n",
              " 888,\n",
              " 889,\n",
              " 890,\n",
              " 891,\n",
              " 892,\n",
              " 893,\n",
              " 894,\n",
              " 895,\n",
              " 896,\n",
              " 897,\n",
              " 898,\n",
              " 899,\n",
              " 900,\n",
              " 901,\n",
              " 902,\n",
              " 903,\n",
              " 904,\n",
              " 905,\n",
              " 906,\n",
              " 907,\n",
              " 908,\n",
              " 909,\n",
              " 910,\n",
              " 911,\n",
              " 912,\n",
              " 913,\n",
              " 914,\n",
              " 915,\n",
              " 916,\n",
              " 917,\n",
              " 918,\n",
              " 919,\n",
              " 920,\n",
              " 921,\n",
              " 922,\n",
              " 923,\n",
              " 924,\n",
              " 925,\n",
              " 926,\n",
              " 927,\n",
              " 928,\n",
              " 929,\n",
              " 930,\n",
              " 931,\n",
              " 932,\n",
              " 933,\n",
              " 934,\n",
              " 935,\n",
              " 936,\n",
              " 937,\n",
              " 938,\n",
              " 939,\n",
              " 940,\n",
              " 941,\n",
              " 942,\n",
              " 943,\n",
              " 944,\n",
              " 945,\n",
              " 946,\n",
              " 947,\n",
              " 948,\n",
              " 949,\n",
              " 950,\n",
              " 951,\n",
              " 952,\n",
              " 953,\n",
              " 954,\n",
              " 955,\n",
              " 956,\n",
              " 957,\n",
              " 958,\n",
              " 959,\n",
              " 960,\n",
              " 961,\n",
              " 962,\n",
              " 963,\n",
              " 964,\n",
              " 965,\n",
              " 966,\n",
              " 967,\n",
              " 968,\n",
              " 969,\n",
              " 970,\n",
              " 971,\n",
              " 972,\n",
              " 973,\n",
              " 974,\n",
              " 975,\n",
              " 976,\n",
              " 977,\n",
              " 978,\n",
              " 979,\n",
              " 980,\n",
              " 981,\n",
              " 982,\n",
              " 983,\n",
              " 984,\n",
              " 985,\n",
              " 986,\n",
              " 987,\n",
              " 988,\n",
              " 989,\n",
              " 990,\n",
              " 991,\n",
              " 992,\n",
              " 993,\n",
              " 994,\n",
              " 995,\n",
              " 996,\n",
              " 997,\n",
              " 998,\n",
              " 999,\n",
              " ...]"
            ]
          },
          "metadata": {},
          "execution_count": 26
        }
      ]
    },
    {
      "cell_type": "markdown",
      "source": [
        "17. Create/write list of numbers to file\n",
        "python\n",
        "Copy\n",
        "Edit\n"
      ],
      "metadata": {
        "id": "hx3e_2jBbynD"
      }
    },
    {
      "cell_type": "code",
      "source": [
        "numbers = [1, 2, 3, 4, 5]\n",
        "with open(\"numbers.txt\", \"w\") as f:\n",
        "    for num in numbers:\n",
        "        f.write(str(num) + \"\\n\")\n"
      ],
      "metadata": {
        "id": "CCnyX_5ebyul"
      },
      "execution_count": 27,
      "outputs": []
    },
    {
      "cell_type": "markdown",
      "source": [
        "18. Logging with file rotation\n",
        "python\n",
        "Copy\n",
        "Edit\n"
      ],
      "metadata": {
        "id": "63LQdJT5bzDw"
      }
    },
    {
      "cell_type": "code",
      "source": [
        "import logging\n",
        "from logging.handlers import RotatingFileHandler\n",
        "\n",
        "logger = logging.getLogger()\n",
        "handler = RotatingFileHandler(\"rotated.log\", maxBytes=200, backupCount=5)\n",
        "logger.addHandler(handler)\n",
        "logger.setLevel(logging.INFO)\n",
        "\n",
        "logger.info(\"This is a test log\")\n"
      ],
      "metadata": {
        "colab": {
          "base_uri": "https://localhost:8080/"
        },
        "id": "DugiS3NPbzL0",
        "outputId": "0913b6be-ac74-4aee-dae4-9426cce32d6e"
      },
      "execution_count": 28,
      "outputs": [
        {
          "output_type": "stream",
          "name": "stderr",
          "text": [
            "INFO:root:This is a test log\n"
          ]
        }
      ]
    },
    {
      "cell_type": "markdown",
      "source": [
        "19. Handle IndexError and KeyError\n",
        "python\n",
        "Copy\n",
        "Edit\n"
      ],
      "metadata": {
        "id": "zMTjTluScDvA"
      }
    },
    {
      "cell_type": "code",
      "source": [
        "try:\n",
        "    lst = [1, 2]\n",
        "    print(lst[3])\n",
        "    d = {}\n",
        "    print(d[\"key\"])\n",
        "except IndexError:\n",
        "    print(\"Index out of range.\")\n",
        "except KeyError:\n",
        "    print(\"Key not found.\")\n"
      ],
      "metadata": {
        "colab": {
          "base_uri": "https://localhost:8080/"
        },
        "id": "oaCK293ScD5v",
        "outputId": "04d419e1-a22f-4e1e-84d0-bb0e8e72eea5"
      },
      "execution_count": 29,
      "outputs": [
        {
          "output_type": "stream",
          "name": "stdout",
          "text": [
            "Index out of range.\n"
          ]
        }
      ]
    },
    {
      "cell_type": "markdown",
      "source": [
        "20. Read file using context manager\n",
        "python\n",
        "Copy\n",
        "Edit\n"
      ],
      "metadata": {
        "id": "U01ywW6vcEFC"
      }
    },
    {
      "cell_type": "code",
      "source": [
        "with open(\"file.txt\", \"r\") as f:\n",
        "    print(f.read())\n"
      ],
      "metadata": {
        "colab": {
          "base_uri": "https://localhost:8080/"
        },
        "id": "-hbCwa59cEPA",
        "outputId": "1585723b-4248-404d-f58f-88a9f152d62f"
      },
      "execution_count": 30,
      "outputs": [
        {
          "output_type": "stream",
          "name": "stdout",
          "text": [
            "\n",
            "New data added.\n"
          ]
        }
      ]
    },
    {
      "cell_type": "markdown",
      "source": [
        "21. Count occurrences of a word in a file\n",
        "python\n",
        "Copy\n",
        "Edit\n"
      ],
      "metadata": {
        "id": "U2742AJvcEaI"
      }
    },
    {
      "cell_type": "code",
      "source": [
        "word = \"python\"\n",
        "with open(\"file.txt\", \"r\") as f:\n",
        "    content = f.read()\n",
        "    print(content.lower().count(word))\n"
      ],
      "metadata": {
        "colab": {
          "base_uri": "https://localhost:8080/"
        },
        "id": "jMwyZ30McElD",
        "outputId": "764984f8-cbf6-420b-8be0-08fbc5bcd2e5"
      },
      "execution_count": 31,
      "outputs": [
        {
          "output_type": "stream",
          "name": "stdout",
          "text": [
            "0\n"
          ]
        }
      ]
    },
    {
      "cell_type": "markdown",
      "source": [
        "22. Check if file is empty\n",
        "python\n",
        "Copy\n",
        "Edit\n"
      ],
      "metadata": {
        "id": "O5SyrZzocT4V"
      }
    },
    {
      "cell_type": "code",
      "source": [
        "import os\n",
        "\n",
        "if os.path.getsize(\"file.txt\") == 0:\n",
        "    print(\"File is empty.\")\n"
      ],
      "metadata": {
        "id": "1piC2UbRcUA3"
      },
      "execution_count": 32,
      "outputs": []
    },
    {
      "cell_type": "markdown",
      "source": [
        "23. Log error during file handling\n",
        "python\n",
        "Copy\n",
        "Edit\n"
      ],
      "metadata": {
        "id": "62ztzJI6cUPs"
      }
    },
    {
      "cell_type": "code",
      "source": [
        "import logging\n",
        "\n",
        "logging.basicConfig(filename=\"error.log\", level=logging.ERROR)\n",
        "try:\n",
        "    with open(\"missing.txt\", \"r\") as file:\n",
        "        data = file.read()\n",
        "except FileNotFoundError as e:\n",
        "    logging.error(f\"File not found: {e}\")\n"
      ],
      "metadata": {
        "colab": {
          "base_uri": "https://localhost:8080/"
        },
        "id": "nHa5phc1cUZj",
        "outputId": "a2edc4ac-b6ec-4eb0-a0dc-602fbb536dcb"
      },
      "execution_count": 33,
      "outputs": [
        {
          "output_type": "stream",
          "name": "stderr",
          "text": [
            "ERROR:root:File not found: [Errno 2] No such file or directory: 'missing.txt'\n"
          ]
        }
      ]
    }
  ]
}